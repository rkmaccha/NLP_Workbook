{
  "nbformat": 4,
  "nbformat_minor": 0,
  "metadata": {
    "colab": {
      "name": "NLP_02.ipynb",
      "provenance": [],
      "collapsed_sections": [],
      "authorship_tag": "ABX9TyNcI1cyCImPzClPSCz93D+5",
      "include_colab_link": true
    },
    "kernelspec": {
      "name": "python3",
      "display_name": "Python 3"
    },
    "language_info": {
      "name": "python"
    }
  },
  "cells": [
    {
      "cell_type": "markdown",
      "metadata": {
        "id": "view-in-github",
        "colab_type": "text"
      },
      "source": [
        "<a href=\"https://colab.research.google.com/github/rkmaccha/NLP_Workbook/blob/main/NLP_02.ipynb\" target=\"_parent\"><img src=\"https://colab.research.google.com/assets/colab-badge.svg\" alt=\"Open In Colab\"/></a>"
      ]
    },
    {
      "cell_type": "markdown",
      "source": [
        "#TEXT REPRESENTATION"
      ],
      "metadata": {
        "id": "GBdWjP232SEg"
      }
    },
    {
      "cell_type": "markdown",
      "source": [
        "### BAG OF WORDS"
      ],
      "metadata": {
        "id": "mWmizdIN2V51"
      }
    },
    {
      "cell_type": "code",
      "execution_count": 2,
      "metadata": {
        "id": "OhFuX2er2PN5"
      },
      "outputs": [],
      "source": [
        "# import libraries\n",
        "import pandas as pd\n",
        "import numpy as np"
      ]
    },
    {
      "cell_type": "code",
      "source": [
        "# Bag of Words\n",
        "from sklearn.feature_extraction.text import CountVectorizer\n",
        "cv = CountVectorizer()"
      ],
      "metadata": {
        "id": "Rs6W0n5J2UZh"
      },
      "execution_count": 3,
      "outputs": []
    },
    {
      "cell_type": "code",
      "source": [
        "# creating a dummy data:\n",
        "df= pd.DataFrame({'text':['audience watch ram4uni','ram4uni watch ram4uni','audience write comments','ram4uni write comments'],'output':[1,1,0,0] })"
      ],
      "metadata": {
        "id": "bnGHFfA83Fez"
      },
      "execution_count": 4,
      "outputs": []
    },
    {
      "cell_type": "code",
      "source": [
        "df"
      ],
      "metadata": {
        "colab": {
          "base_uri": "https://localhost:8080/",
          "height": 175
        },
        "id": "WhV4ZCAl3s_T",
        "outputId": "534d67e6-e4db-4708-b435-d2e4d2f076ab"
      },
      "execution_count": 5,
      "outputs": [
        {
          "output_type": "execute_result",
          "data": {
            "text/plain": [
              "                      text  output\n",
              "0   audience watch ram4uni       1\n",
              "1    ram4uni watch ram4uni       1\n",
              "2  audience write comments       0\n",
              "3   ram4uni write comments       0"
            ],
            "text/html": [
              "\n",
              "  <div id=\"df-23715bf7-816a-45a1-baa1-c883ea4a7b62\">\n",
              "    <div class=\"colab-df-container\">\n",
              "      <div>\n",
              "<style scoped>\n",
              "    .dataframe tbody tr th:only-of-type {\n",
              "        vertical-align: middle;\n",
              "    }\n",
              "\n",
              "    .dataframe tbody tr th {\n",
              "        vertical-align: top;\n",
              "    }\n",
              "\n",
              "    .dataframe thead th {\n",
              "        text-align: right;\n",
              "    }\n",
              "</style>\n",
              "<table border=\"1\" class=\"dataframe\">\n",
              "  <thead>\n",
              "    <tr style=\"text-align: right;\">\n",
              "      <th></th>\n",
              "      <th>text</th>\n",
              "      <th>output</th>\n",
              "    </tr>\n",
              "  </thead>\n",
              "  <tbody>\n",
              "    <tr>\n",
              "      <th>0</th>\n",
              "      <td>audience watch ram4uni</td>\n",
              "      <td>1</td>\n",
              "    </tr>\n",
              "    <tr>\n",
              "      <th>1</th>\n",
              "      <td>ram4uni watch ram4uni</td>\n",
              "      <td>1</td>\n",
              "    </tr>\n",
              "    <tr>\n",
              "      <th>2</th>\n",
              "      <td>audience write comments</td>\n",
              "      <td>0</td>\n",
              "    </tr>\n",
              "    <tr>\n",
              "      <th>3</th>\n",
              "      <td>ram4uni write comments</td>\n",
              "      <td>0</td>\n",
              "    </tr>\n",
              "  </tbody>\n",
              "</table>\n",
              "</div>\n",
              "      <button class=\"colab-df-convert\" onclick=\"convertToInteractive('df-23715bf7-816a-45a1-baa1-c883ea4a7b62')\"\n",
              "              title=\"Convert this dataframe to an interactive table.\"\n",
              "              style=\"display:none;\">\n",
              "        \n",
              "  <svg xmlns=\"http://www.w3.org/2000/svg\" height=\"24px\"viewBox=\"0 0 24 24\"\n",
              "       width=\"24px\">\n",
              "    <path d=\"M0 0h24v24H0V0z\" fill=\"none\"/>\n",
              "    <path d=\"M18.56 5.44l.94 2.06.94-2.06 2.06-.94-2.06-.94-.94-2.06-.94 2.06-2.06.94zm-11 1L8.5 8.5l.94-2.06 2.06-.94-2.06-.94L8.5 2.5l-.94 2.06-2.06.94zm10 10l.94 2.06.94-2.06 2.06-.94-2.06-.94-.94-2.06-.94 2.06-2.06.94z\"/><path d=\"M17.41 7.96l-1.37-1.37c-.4-.4-.92-.59-1.43-.59-.52 0-1.04.2-1.43.59L10.3 9.45l-7.72 7.72c-.78.78-.78 2.05 0 2.83L4 21.41c.39.39.9.59 1.41.59.51 0 1.02-.2 1.41-.59l7.78-7.78 2.81-2.81c.8-.78.8-2.07 0-2.86zM5.41 20L4 18.59l7.72-7.72 1.47 1.35L5.41 20z\"/>\n",
              "  </svg>\n",
              "      </button>\n",
              "      \n",
              "  <style>\n",
              "    .colab-df-container {\n",
              "      display:flex;\n",
              "      flex-wrap:wrap;\n",
              "      gap: 12px;\n",
              "    }\n",
              "\n",
              "    .colab-df-convert {\n",
              "      background-color: #E8F0FE;\n",
              "      border: none;\n",
              "      border-radius: 50%;\n",
              "      cursor: pointer;\n",
              "      display: none;\n",
              "      fill: #1967D2;\n",
              "      height: 32px;\n",
              "      padding: 0 0 0 0;\n",
              "      width: 32px;\n",
              "    }\n",
              "\n",
              "    .colab-df-convert:hover {\n",
              "      background-color: #E2EBFA;\n",
              "      box-shadow: 0px 1px 2px rgba(60, 64, 67, 0.3), 0px 1px 3px 1px rgba(60, 64, 67, 0.15);\n",
              "      fill: #174EA6;\n",
              "    }\n",
              "\n",
              "    [theme=dark] .colab-df-convert {\n",
              "      background-color: #3B4455;\n",
              "      fill: #D2E3FC;\n",
              "    }\n",
              "\n",
              "    [theme=dark] .colab-df-convert:hover {\n",
              "      background-color: #434B5C;\n",
              "      box-shadow: 0px 1px 3px 1px rgba(0, 0, 0, 0.15);\n",
              "      filter: drop-shadow(0px 1px 2px rgba(0, 0, 0, 0.3));\n",
              "      fill: #FFFFFF;\n",
              "    }\n",
              "  </style>\n",
              "\n",
              "      <script>\n",
              "        const buttonEl =\n",
              "          document.querySelector('#df-23715bf7-816a-45a1-baa1-c883ea4a7b62 button.colab-df-convert');\n",
              "        buttonEl.style.display =\n",
              "          google.colab.kernel.accessAllowed ? 'block' : 'none';\n",
              "\n",
              "        async function convertToInteractive(key) {\n",
              "          const element = document.querySelector('#df-23715bf7-816a-45a1-baa1-c883ea4a7b62');\n",
              "          const dataTable =\n",
              "            await google.colab.kernel.invokeFunction('convertToInteractive',\n",
              "                                                     [key], {});\n",
              "          if (!dataTable) return;\n",
              "\n",
              "          const docLinkHtml = 'Like what you see? Visit the ' +\n",
              "            '<a target=\"_blank\" href=https://colab.research.google.com/notebooks/data_table.ipynb>data table notebook</a>'\n",
              "            + ' to learn more about interactive tables.';\n",
              "          element.innerHTML = '';\n",
              "          dataTable['output_type'] = 'display_data';\n",
              "          await google.colab.output.renderOutput(dataTable, element);\n",
              "          const docLink = document.createElement('div');\n",
              "          docLink.innerHTML = docLinkHtml;\n",
              "          element.appendChild(docLink);\n",
              "        }\n",
              "      </script>\n",
              "    </div>\n",
              "  </div>\n",
              "  "
            ]
          },
          "metadata": {},
          "execution_count": 5
        }
      ]
    },
    {
      "cell_type": "code",
      "source": [
        "bow = cv.fit_transform(df['text'])"
      ],
      "metadata": {
        "id": "SBi0LBxg3t3u"
      },
      "execution_count": 6,
      "outputs": []
    },
    {
      "cell_type": "code",
      "source": [
        "bow"
      ],
      "metadata": {
        "colab": {
          "base_uri": "https://localhost:8080/"
        },
        "id": "dpaCjXXT32ZK",
        "outputId": "dd9b9df6-8af4-4d95-a140-982180af6dc8"
      },
      "execution_count": 7,
      "outputs": [
        {
          "output_type": "execute_result",
          "data": {
            "text/plain": [
              "<4x5 sparse matrix of type '<class 'numpy.int64'>'\n",
              "\twith 11 stored elements in Compressed Sparse Row format>"
            ]
          },
          "metadata": {},
          "execution_count": 7
        }
      ]
    },
    {
      "cell_type": "code",
      "source": [
        "cv.vocabulary_"
      ],
      "metadata": {
        "colab": {
          "base_uri": "https://localhost:8080/"
        },
        "id": "jxGq9xCH33Ah",
        "outputId": "f3cdc81d-5966-4a08-a6b5-ce129edf804f"
      },
      "execution_count": 8,
      "outputs": [
        {
          "output_type": "execute_result",
          "data": {
            "text/plain": [
              "{'audience': 0, 'comments': 1, 'ram4uni': 2, 'watch': 3, 'write': 4}"
            ]
          },
          "metadata": {},
          "execution_count": 8
        }
      ]
    },
    {
      "cell_type": "code",
      "source": [
        "print(bow[0].toarray())"
      ],
      "metadata": {
        "colab": {
          "base_uri": "https://localhost:8080/"
        },
        "id": "btydAMCV4BOg",
        "outputId": "9016eedf-d49b-4f4b-bca4-f704174a6e2e"
      },
      "execution_count": 9,
      "outputs": [
        {
          "output_type": "stream",
          "name": "stdout",
          "text": [
            "[[1 0 1 1 0]]\n"
          ]
        }
      ]
    },
    {
      "cell_type": "code",
      "source": [
        "print(bow[2].toarray())"
      ],
      "metadata": {
        "colab": {
          "base_uri": "https://localhost:8080/"
        },
        "id": "lhjfY7Og4JxW",
        "outputId": "0db962a7-97b1-48c7-da34-97aa17b96ff3"
      },
      "execution_count": 10,
      "outputs": [
        {
          "output_type": "stream",
          "name": "stdout",
          "text": [
            "[[1 1 0 0 1]]\n"
          ]
        }
      ]
    },
    {
      "cell_type": "code",
      "source": [
        "cv.transform(['ram4uni watch and write comments on ram4uni'])"
      ],
      "metadata": {
        "colab": {
          "base_uri": "https://localhost:8080/"
        },
        "id": "yfMEPa8p4QN9",
        "outputId": "305aa4d8-2aae-43c4-9d61-0c29d8566540"
      },
      "execution_count": 13,
      "outputs": [
        {
          "output_type": "execute_result",
          "data": {
            "text/plain": [
              "<1x5 sparse matrix of type '<class 'numpy.int64'>'\n",
              "\twith 4 stored elements in Compressed Sparse Row format>"
            ]
          },
          "metadata": {},
          "execution_count": 13
        }
      ]
    },
    {
      "cell_type": "code",
      "source": [
        "cv.transform(['ram4uni watch and write comments on ram4uni']).toarray()"
      ],
      "metadata": {
        "colab": {
          "base_uri": "https://localhost:8080/"
        },
        "id": "zci2AUZ24k_A",
        "outputId": "c6b73d99-7f92-4de2-aa70-0a87f0180255"
      },
      "execution_count": 14,
      "outputs": [
        {
          "output_type": "execute_result",
          "data": {
            "text/plain": [
              "array([[0, 1, 2, 1, 1]])"
            ]
          },
          "metadata": {},
          "execution_count": 14
        }
      ]
    },
    {
      "cell_type": "markdown",
      "source": [
        "### NGRAM ( BAG OF WORDS )"
      ],
      "metadata": {
        "id": "Z7CK9oiT5CdX"
      }
    },
    {
      "cell_type": "code",
      "source": [
        "# Bag of Words using ngram\n",
        "from sklearn.feature_extraction.text import CountVectorizer\n",
        "cv = CountVectorizer(ngram_range=(2,2))"
      ],
      "metadata": {
        "id": "Q8Y1R-Td4uEJ"
      },
      "execution_count": 15,
      "outputs": []
    },
    {
      "cell_type": "code",
      "source": [
        "bow = cv.fit_transform(df['text'])"
      ],
      "metadata": {
        "id": "JfjM4XFr5TaA"
      },
      "execution_count": 16,
      "outputs": []
    },
    {
      "cell_type": "code",
      "source": [
        "cv.vocabulary_"
      ],
      "metadata": {
        "colab": {
          "base_uri": "https://localhost:8080/"
        },
        "id": "FAZhKqeI5VOZ",
        "outputId": "d450bb31-8055-4a9d-d628-1d83e615c851"
      },
      "execution_count": 17,
      "outputs": [
        {
          "output_type": "execute_result",
          "data": {
            "text/plain": [
              "{'audience watch': 0,\n",
              " 'audience write': 1,\n",
              " 'ram4uni watch': 2,\n",
              " 'ram4uni write': 3,\n",
              " 'watch ram4uni': 4,\n",
              " 'write comments': 5}"
            ]
          },
          "metadata": {},
          "execution_count": 17
        }
      ]
    },
    {
      "cell_type": "code",
      "source": [
        "print(bow[0].toarray())"
      ],
      "metadata": {
        "colab": {
          "base_uri": "https://localhost:8080/"
        },
        "id": "N_KLXEzD5XJF",
        "outputId": "b61044a7-2097-4e38-b32b-b262f4781530"
      },
      "execution_count": 18,
      "outputs": [
        {
          "output_type": "stream",
          "name": "stdout",
          "text": [
            "[[1 0 0 0 1 0]]\n"
          ]
        }
      ]
    },
    {
      "cell_type": "code",
      "source": [
        "print(bow[2].toarray())"
      ],
      "metadata": {
        "colab": {
          "base_uri": "https://localhost:8080/"
        },
        "id": "sJdJCS2B5dZF",
        "outputId": "b20b232d-58a8-4de4-a56f-9c8366ae5774"
      },
      "execution_count": 19,
      "outputs": [
        {
          "output_type": "stream",
          "name": "stdout",
          "text": [
            "[[0 1 0 0 0 1]]\n"
          ]
        }
      ]
    },
    {
      "cell_type": "code",
      "source": [
        "cv.transform(['ram4uni watch and write comments on ram4uni']).toarray()"
      ],
      "metadata": {
        "colab": {
          "base_uri": "https://localhost:8080/"
        },
        "id": "dqtBCLN-5iFM",
        "outputId": "c11b4954-178e-4e03-ef62-1a2d7546432a"
      },
      "execution_count": 20,
      "outputs": [
        {
          "output_type": "execute_result",
          "data": {
            "text/plain": [
              "array([[0, 0, 1, 0, 0, 1]])"
            ]
          },
          "metadata": {},
          "execution_count": 20
        }
      ]
    },
    {
      "cell_type": "markdown",
      "source": [
        "### TF_IDF (Term Frequency–Inverse Document Frequency)\n",
        "documentation link : https://scikit-learn.org/stable/modules/generated/sklearn.feature_extraction.text.TfidfVectorizer.html"
      ],
      "metadata": {
        "id": "iK3oCNjo6SuW"
      }
    },
    {
      "cell_type": "markdown",
      "source": [
        "![tfidf.jpg](data:image/jpeg;base64,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)"
      ],
      "metadata": {
        "id": "-tqPzqr76ivp"
      }
    },
    {
      "cell_type": "code",
      "source": [
        "from sklearn.feature_extraction.text import TfidfVectorizer"
      ],
      "metadata": {
        "id": "OS-R2ahU6O_T"
      },
      "execution_count": 21,
      "outputs": []
    },
    {
      "cell_type": "code",
      "source": [
        "tdidf = TfidfVectorizer()"
      ],
      "metadata": {
        "id": "xbopf33iAIAx"
      },
      "execution_count": 22,
      "outputs": []
    },
    {
      "cell_type": "code",
      "source": [
        "tdidf.fit_transform(df['text']).toarray()"
      ],
      "metadata": {
        "colab": {
          "base_uri": "https://localhost:8080/"
        },
        "id": "qaASCXAsALsB",
        "outputId": "91e2c92a-5b0c-445e-c2a4-001d5b2d9f09"
      },
      "execution_count": 23,
      "outputs": [
        {
          "output_type": "execute_result",
          "data": {
            "text/plain": [
              "array([[0.61366674, 0.        , 0.49681612, 0.61366674, 0.        ],\n",
              "       [0.        , 0.        , 0.8508161 , 0.52546357, 0.        ],\n",
              "       [0.57735027, 0.57735027, 0.        , 0.        , 0.57735027],\n",
              "       [0.        , 0.61366674, 0.49681612, 0.        , 0.61366674]])"
            ]
          },
          "metadata": {},
          "execution_count": 23
        }
      ]
    },
    {
      "cell_type": "code",
      "source": [
        "print(tdidf.idf_)\n",
        "print(tdidf.get_feature_names_out())"
      ],
      "metadata": {
        "colab": {
          "base_uri": "https://localhost:8080/"
        },
        "id": "w3FgxnggASmJ",
        "outputId": "30f7f816-adf1-4a8f-daf6-bc2c788a224f"
      },
      "execution_count": 26,
      "outputs": [
        {
          "output_type": "stream",
          "name": "stdout",
          "text": [
            "[1.51082562 1.51082562 1.22314355 1.51082562 1.51082562]\n",
            "['audience' 'comments' 'ram4uni' 'watch' 'write']\n"
          ]
        }
      ]
    },
    {
      "cell_type": "code",
      "source": [
        ""
      ],
      "metadata": {
        "id": "w8z8ZQY2AbY0"
      },
      "execution_count": null,
      "outputs": []
    }
  ]
}